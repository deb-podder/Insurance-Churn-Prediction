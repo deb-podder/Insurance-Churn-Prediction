{
 "cells": [
  {
   "cell_type": "markdown",
   "metadata": {},
   "source": [
    "# Importing the Libraries"
   ]
  },
  {
   "cell_type": "code",
   "execution_count": 1,
   "metadata": {},
   "outputs": [],
   "source": [
    "import pandas as pd\n",
    "import numpy as np\n",
    "import matplotlib.pyplot as plt\n",
    "import seaborn as sns\n",
    "from sklearn.metrics import confusion_matrix, accuracy_score\n",
    "from sklearn.model_selection import cross_val_score\n",
    "from sklearn.model_selection import GridSearchCV\n",
    "import warnings\n",
    "warnings.filterwarnings('ignore')"
   ]
  },
  {
   "cell_type": "markdown",
   "metadata": {},
   "source": [
    "# Importing the Train Dataset"
   ]
  },
  {
   "cell_type": "code",
   "execution_count": 2,
   "metadata": {},
   "outputs": [],
   "source": [
    "insurance_churn_train = pd.read_csv('Insurance_Churn_ParticipantsData_Train.csv')"
   ]
  },
  {
   "cell_type": "code",
   "execution_count": 3,
   "metadata": {},
   "outputs": [
    {
     "data": {
      "text/html": [
       "<div>\n",
       "<style scoped>\n",
       "    .dataframe tbody tr th:only-of-type {\n",
       "        vertical-align: middle;\n",
       "    }\n",
       "\n",
       "    .dataframe tbody tr th {\n",
       "        vertical-align: top;\n",
       "    }\n",
       "\n",
       "    .dataframe thead th {\n",
       "        text-align: right;\n",
       "    }\n",
       "</style>\n",
       "<table border=\"1\" class=\"dataframe\">\n",
       "  <thead>\n",
       "    <tr style=\"text-align: right;\">\n",
       "      <th></th>\n",
       "      <th>feature_0</th>\n",
       "      <th>feature_1</th>\n",
       "      <th>feature_2</th>\n",
       "      <th>feature_3</th>\n",
       "      <th>feature_4</th>\n",
       "      <th>feature_5</th>\n",
       "      <th>feature_6</th>\n",
       "      <th>feature_7</th>\n",
       "      <th>feature_8</th>\n",
       "      <th>feature_9</th>\n",
       "      <th>feature_10</th>\n",
       "      <th>feature_11</th>\n",
       "      <th>feature_12</th>\n",
       "      <th>feature_13</th>\n",
       "      <th>feature_14</th>\n",
       "      <th>feature_15</th>\n",
       "      <th>labels</th>\n",
       "    </tr>\n",
       "  </thead>\n",
       "  <tbody>\n",
       "    <tr>\n",
       "      <td>0</td>\n",
       "      <td>-0.276515</td>\n",
       "      <td>-0.424429</td>\n",
       "      <td>1.344997</td>\n",
       "      <td>-0.012283</td>\n",
       "      <td>0.076230</td>\n",
       "      <td>1.076648</td>\n",
       "      <td>0.182198</td>\n",
       "      <td>3</td>\n",
       "      <td>0</td>\n",
       "      <td>1</td>\n",
       "      <td>0</td>\n",
       "      <td>0</td>\n",
       "      <td>0</td>\n",
       "      <td>0</td>\n",
       "      <td>10</td>\n",
       "      <td>2</td>\n",
       "      <td>1</td>\n",
       "    </tr>\n",
       "    <tr>\n",
       "      <td>1</td>\n",
       "      <td>0.853573</td>\n",
       "      <td>0.150991</td>\n",
       "      <td>0.503892</td>\n",
       "      <td>-0.979179</td>\n",
       "      <td>-0.569351</td>\n",
       "      <td>-0.411453</td>\n",
       "      <td>-0.251940</td>\n",
       "      <td>4</td>\n",
       "      <td>1</td>\n",
       "      <td>2</td>\n",
       "      <td>0</td>\n",
       "      <td>1</td>\n",
       "      <td>0</td>\n",
       "      <td>0</td>\n",
       "      <td>0</td>\n",
       "      <td>3</td>\n",
       "      <td>0</td>\n",
       "    </tr>\n",
       "    <tr>\n",
       "      <td>2</td>\n",
       "      <td>0.947747</td>\n",
       "      <td>-0.173832</td>\n",
       "      <td>1.825628</td>\n",
       "      <td>-0.703478</td>\n",
       "      <td>0.076230</td>\n",
       "      <td>-0.411453</td>\n",
       "      <td>-0.251940</td>\n",
       "      <td>6</td>\n",
       "      <td>1</td>\n",
       "      <td>2</td>\n",
       "      <td>0</td>\n",
       "      <td>0</td>\n",
       "      <td>0</td>\n",
       "      <td>0</td>\n",
       "      <td>5</td>\n",
       "      <td>3</td>\n",
       "      <td>0</td>\n",
       "    </tr>\n",
       "    <tr>\n",
       "      <td>3</td>\n",
       "      <td>0.853573</td>\n",
       "      <td>-0.381404</td>\n",
       "      <td>0.984523</td>\n",
       "      <td>-0.039464</td>\n",
       "      <td>-0.569351</td>\n",
       "      <td>-0.411453</td>\n",
       "      <td>-0.251940</td>\n",
       "      <td>4</td>\n",
       "      <td>0</td>\n",
       "      <td>2</td>\n",
       "      <td>0</td>\n",
       "      <td>1</td>\n",
       "      <td>0</td>\n",
       "      <td>0</td>\n",
       "      <td>5</td>\n",
       "      <td>3</td>\n",
       "      <td>0</td>\n",
       "    </tr>\n",
       "    <tr>\n",
       "      <td>4</td>\n",
       "      <td>1.324443</td>\n",
       "      <td>1.590527</td>\n",
       "      <td>-1.178318</td>\n",
       "      <td>-0.097711</td>\n",
       "      <td>-0.246560</td>\n",
       "      <td>-0.411453</td>\n",
       "      <td>-0.251940</td>\n",
       "      <td>0</td>\n",
       "      <td>1</td>\n",
       "      <td>1</td>\n",
       "      <td>0</td>\n",
       "      <td>0</td>\n",
       "      <td>0</td>\n",
       "      <td>0</td>\n",
       "      <td>8</td>\n",
       "      <td>3</td>\n",
       "      <td>0</td>\n",
       "    </tr>\n",
       "  </tbody>\n",
       "</table>\n",
       "</div>"
      ],
      "text/plain": [
       "   feature_0  feature_1  feature_2  feature_3  feature_4  feature_5  \\\n",
       "0  -0.276515  -0.424429   1.344997  -0.012283   0.076230   1.076648   \n",
       "1   0.853573   0.150991   0.503892  -0.979179  -0.569351  -0.411453   \n",
       "2   0.947747  -0.173832   1.825628  -0.703478   0.076230  -0.411453   \n",
       "3   0.853573  -0.381404   0.984523  -0.039464  -0.569351  -0.411453   \n",
       "4   1.324443   1.590527  -1.178318  -0.097711  -0.246560  -0.411453   \n",
       "\n",
       "   feature_6  feature_7  feature_8  feature_9  feature_10  feature_11  \\\n",
       "0   0.182198          3          0          1           0           0   \n",
       "1  -0.251940          4          1          2           0           1   \n",
       "2  -0.251940          6          1          2           0           0   \n",
       "3  -0.251940          4          0          2           0           1   \n",
       "4  -0.251940          0          1          1           0           0   \n",
       "\n",
       "   feature_12  feature_13  feature_14  feature_15  labels  \n",
       "0           0           0          10           2       1  \n",
       "1           0           0           0           3       0  \n",
       "2           0           0           5           3       0  \n",
       "3           0           0           5           3       0  \n",
       "4           0           0           8           3       0  "
      ]
     },
     "execution_count": 3,
     "metadata": {},
     "output_type": "execute_result"
    }
   ],
   "source": [
    "insurance_churn_train.head()"
   ]
  },
  {
   "cell_type": "markdown",
   "metadata": {},
   "source": [
    "# Data Wrangling"
   ]
  },
  {
   "cell_type": "code",
   "execution_count": 4,
   "metadata": {},
   "outputs": [
    {
     "name": "stdout",
     "output_type": "stream",
     "text": [
      "<class 'pandas.core.frame.DataFrame'>\n",
      "RangeIndex: 33908 entries, 0 to 33907\n",
      "Data columns (total 17 columns):\n",
      "feature_0     33908 non-null float64\n",
      "feature_1     33908 non-null float64\n",
      "feature_2     33908 non-null float64\n",
      "feature_3     33908 non-null float64\n",
      "feature_4     33908 non-null float64\n",
      "feature_5     33908 non-null float64\n",
      "feature_6     33908 non-null float64\n",
      "feature_7     33908 non-null int64\n",
      "feature_8     33908 non-null int64\n",
      "feature_9     33908 non-null int64\n",
      "feature_10    33908 non-null int64\n",
      "feature_11    33908 non-null int64\n",
      "feature_12    33908 non-null int64\n",
      "feature_13    33908 non-null int64\n",
      "feature_14    33908 non-null int64\n",
      "feature_15    33908 non-null int64\n",
      "labels        33908 non-null int64\n",
      "dtypes: float64(7), int64(10)\n",
      "memory usage: 4.4 MB\n"
     ]
    }
   ],
   "source": [
    "insurance_churn_train.info()"
   ]
  },
  {
   "cell_type": "code",
   "execution_count": 5,
   "metadata": {},
   "outputs": [
    {
     "data": {
      "text/plain": [
       "feature_0     0\n",
       "feature_1     0\n",
       "feature_2     0\n",
       "feature_3     0\n",
       "feature_4     0\n",
       "feature_5     0\n",
       "feature_6     0\n",
       "feature_7     0\n",
       "feature_8     0\n",
       "feature_9     0\n",
       "feature_10    0\n",
       "feature_11    0\n",
       "feature_12    0\n",
       "feature_13    0\n",
       "feature_14    0\n",
       "feature_15    0\n",
       "labels        0\n",
       "dtype: int64"
      ]
     },
     "execution_count": 5,
     "metadata": {},
     "output_type": "execute_result"
    }
   ],
   "source": [
    "insurance_churn_train.isnull().sum()"
   ]
  },
  {
   "cell_type": "code",
   "execution_count": 6,
   "metadata": {},
   "outputs": [
    {
     "data": {
      "text/plain": [
       "feature_0     float64\n",
       "feature_1     float64\n",
       "feature_2     float64\n",
       "feature_3     float64\n",
       "feature_4     float64\n",
       "feature_5     float64\n",
       "feature_6     float64\n",
       "feature_7       int64\n",
       "feature_8       int64\n",
       "feature_9       int64\n",
       "feature_10      int64\n",
       "feature_11      int64\n",
       "feature_12      int64\n",
       "feature_13      int64\n",
       "feature_14      int64\n",
       "feature_15      int64\n",
       "labels          int64\n",
       "dtype: object"
      ]
     },
     "execution_count": 6,
     "metadata": {},
     "output_type": "execute_result"
    }
   ],
   "source": [
    "insurance_churn_train.dtypes"
   ]
  },
  {
   "cell_type": "code",
   "execution_count": 7,
   "metadata": {},
   "outputs": [
    {
     "data": {
      "text/plain": [
       "(33908, 17)"
      ]
     },
     "execution_count": 7,
     "metadata": {},
     "output_type": "execute_result"
    }
   ],
   "source": [
    "insurance_churn_train.shape"
   ]
  },
  {
   "cell_type": "code",
   "execution_count": 8,
   "metadata": {},
   "outputs": [
    {
     "data": {
      "text/plain": [
       "Index(['feature_0', 'feature_1', 'feature_2', 'feature_3', 'feature_4',\n",
       "       'feature_5', 'feature_6', 'feature_7', 'feature_8', 'feature_9',\n",
       "       'feature_10', 'feature_11', 'feature_12', 'feature_13', 'feature_14',\n",
       "       'feature_15', 'labels'],\n",
       "      dtype='object')"
      ]
     },
     "execution_count": 8,
     "metadata": {},
     "output_type": "execute_result"
    }
   ],
   "source": [
    "insurance_churn_train.columns"
   ]
  },
  {
   "cell_type": "code",
   "execution_count": 9,
   "metadata": {},
   "outputs": [
    {
     "data": {
      "text/html": [
       "<div>\n",
       "<style scoped>\n",
       "    .dataframe tbody tr th:only-of-type {\n",
       "        vertical-align: middle;\n",
       "    }\n",
       "\n",
       "    .dataframe tbody tr th {\n",
       "        vertical-align: top;\n",
       "    }\n",
       "\n",
       "    .dataframe thead th {\n",
       "        text-align: right;\n",
       "    }\n",
       "</style>\n",
       "<table border=\"1\" class=\"dataframe\">\n",
       "  <thead>\n",
       "    <tr style=\"text-align: right;\">\n",
       "      <th></th>\n",
       "      <th>feature_0</th>\n",
       "      <th>feature_1</th>\n",
       "      <th>feature_2</th>\n",
       "      <th>feature_3</th>\n",
       "      <th>feature_4</th>\n",
       "      <th>feature_5</th>\n",
       "      <th>feature_6</th>\n",
       "      <th>feature_7</th>\n",
       "      <th>feature_8</th>\n",
       "      <th>feature_9</th>\n",
       "      <th>feature_10</th>\n",
       "      <th>feature_11</th>\n",
       "      <th>feature_12</th>\n",
       "      <th>feature_13</th>\n",
       "      <th>feature_14</th>\n",
       "      <th>feature_15</th>\n",
       "      <th>labels</th>\n",
       "    </tr>\n",
       "  </thead>\n",
       "  <tbody>\n",
       "    <tr>\n",
       "      <td>count</td>\n",
       "      <td>33908.000000</td>\n",
       "      <td>33908.000000</td>\n",
       "      <td>33908.000000</td>\n",
       "      <td>33908.000000</td>\n",
       "      <td>33908.000000</td>\n",
       "      <td>33908.000000</td>\n",
       "      <td>33908.000000</td>\n",
       "      <td>33908.000000</td>\n",
       "      <td>33908.000000</td>\n",
       "      <td>33908.000000</td>\n",
       "      <td>33908.000000</td>\n",
       "      <td>33908.000000</td>\n",
       "      <td>33908.000000</td>\n",
       "      <td>33908.000000</td>\n",
       "      <td>33908.000000</td>\n",
       "      <td>33908.000000</td>\n",
       "      <td>33908.000000</td>\n",
       "    </tr>\n",
       "    <tr>\n",
       "      <td>mean</td>\n",
       "      <td>-0.004158</td>\n",
       "      <td>0.002584</td>\n",
       "      <td>-0.000213</td>\n",
       "      <td>-0.000053</td>\n",
       "      <td>-0.000298</td>\n",
       "      <td>-0.004652</td>\n",
       "      <td>-0.007498</td>\n",
       "      <td>4.336381</td>\n",
       "      <td>1.171051</td>\n",
       "      <td>1.225345</td>\n",
       "      <td>0.018137</td>\n",
       "      <td>0.555503</td>\n",
       "      <td>0.159667</td>\n",
       "      <td>0.639407</td>\n",
       "      <td>5.520497</td>\n",
       "      <td>2.562375</td>\n",
       "      <td>0.116993</td>\n",
       "    </tr>\n",
       "    <tr>\n",
       "      <td>std</td>\n",
       "      <td>0.999776</td>\n",
       "      <td>1.014268</td>\n",
       "      <td>1.000872</td>\n",
       "      <td>1.002512</td>\n",
       "      <td>1.003724</td>\n",
       "      <td>0.993984</td>\n",
       "      <td>0.802696</td>\n",
       "      <td>3.273376</td>\n",
       "      <td>0.606730</td>\n",
       "      <td>0.749104</td>\n",
       "      <td>0.133450</td>\n",
       "      <td>0.496917</td>\n",
       "      <td>0.366303</td>\n",
       "      <td>0.897627</td>\n",
       "      <td>3.003241</td>\n",
       "      <td>0.987148</td>\n",
       "      <td>0.321417</td>\n",
       "    </tr>\n",
       "    <tr>\n",
       "      <td>min</td>\n",
       "      <td>-2.159994</td>\n",
       "      <td>-3.081149</td>\n",
       "      <td>-1.779108</td>\n",
       "      <td>-1.002478</td>\n",
       "      <td>-0.569351</td>\n",
       "      <td>-0.411453</td>\n",
       "      <td>-0.251940</td>\n",
       "      <td>0.000000</td>\n",
       "      <td>0.000000</td>\n",
       "      <td>0.000000</td>\n",
       "      <td>0.000000</td>\n",
       "      <td>0.000000</td>\n",
       "      <td>0.000000</td>\n",
       "      <td>0.000000</td>\n",
       "      <td>0.000000</td>\n",
       "      <td>0.000000</td>\n",
       "      <td>0.000000</td>\n",
       "    </tr>\n",
       "    <tr>\n",
       "      <td>25%</td>\n",
       "      <td>-0.747384</td>\n",
       "      <td>-0.422787</td>\n",
       "      <td>-0.938003</td>\n",
       "      <td>-0.602517</td>\n",
       "      <td>-0.569351</td>\n",
       "      <td>-0.411453</td>\n",
       "      <td>-0.251940</td>\n",
       "      <td>1.000000</td>\n",
       "      <td>1.000000</td>\n",
       "      <td>1.000000</td>\n",
       "      <td>0.000000</td>\n",
       "      <td>0.000000</td>\n",
       "      <td>0.000000</td>\n",
       "      <td>0.000000</td>\n",
       "      <td>3.000000</td>\n",
       "      <td>3.000000</td>\n",
       "      <td>0.000000</td>\n",
       "    </tr>\n",
       "    <tr>\n",
       "      <td>50%</td>\n",
       "      <td>-0.182341</td>\n",
       "      <td>-0.297324</td>\n",
       "      <td>0.023260</td>\n",
       "      <td>-0.303517</td>\n",
       "      <td>-0.246560</td>\n",
       "      <td>-0.411453</td>\n",
       "      <td>-0.251940</td>\n",
       "      <td>4.000000</td>\n",
       "      <td>1.000000</td>\n",
       "      <td>1.000000</td>\n",
       "      <td>0.000000</td>\n",
       "      <td>1.000000</td>\n",
       "      <td>0.000000</td>\n",
       "      <td>0.000000</td>\n",
       "      <td>6.000000</td>\n",
       "      <td>3.000000</td>\n",
       "      <td>0.000000</td>\n",
       "    </tr>\n",
       "    <tr>\n",
       "      <td>75%</td>\n",
       "      <td>0.665225</td>\n",
       "      <td>0.022901</td>\n",
       "      <td>0.624050</td>\n",
       "      <td>0.236237</td>\n",
       "      <td>0.076230</td>\n",
       "      <td>-0.411453</td>\n",
       "      <td>-0.251940</td>\n",
       "      <td>7.000000</td>\n",
       "      <td>2.000000</td>\n",
       "      <td>2.000000</td>\n",
       "      <td>0.000000</td>\n",
       "      <td>1.000000</td>\n",
       "      <td>0.000000</td>\n",
       "      <td>2.000000</td>\n",
       "      <td>8.000000</td>\n",
       "      <td>3.000000</td>\n",
       "      <td>0.000000</td>\n",
       "    </tr>\n",
       "    <tr>\n",
       "      <td>max</td>\n",
       "      <td>5.091402</td>\n",
       "      <td>33.094776</td>\n",
       "      <td>1.825628</td>\n",
       "      <td>18.094700</td>\n",
       "      <td>19.443647</td>\n",
       "      <td>8.127648</td>\n",
       "      <td>23.625644</td>\n",
       "      <td>11.000000</td>\n",
       "      <td>2.000000</td>\n",
       "      <td>3.000000</td>\n",
       "      <td>1.000000</td>\n",
       "      <td>1.000000</td>\n",
       "      <td>1.000000</td>\n",
       "      <td>2.000000</td>\n",
       "      <td>11.000000</td>\n",
       "      <td>3.000000</td>\n",
       "      <td>1.000000</td>\n",
       "    </tr>\n",
       "  </tbody>\n",
       "</table>\n",
       "</div>"
      ],
      "text/plain": [
       "          feature_0     feature_1     feature_2     feature_3     feature_4  \\\n",
       "count  33908.000000  33908.000000  33908.000000  33908.000000  33908.000000   \n",
       "mean      -0.004158      0.002584     -0.000213     -0.000053     -0.000298   \n",
       "std        0.999776      1.014268      1.000872      1.002512      1.003724   \n",
       "min       -2.159994     -3.081149     -1.779108     -1.002478     -0.569351   \n",
       "25%       -0.747384     -0.422787     -0.938003     -0.602517     -0.569351   \n",
       "50%       -0.182341     -0.297324      0.023260     -0.303517     -0.246560   \n",
       "75%        0.665225      0.022901      0.624050      0.236237      0.076230   \n",
       "max        5.091402     33.094776      1.825628     18.094700     19.443647   \n",
       "\n",
       "          feature_5     feature_6     feature_7     feature_8     feature_9  \\\n",
       "count  33908.000000  33908.000000  33908.000000  33908.000000  33908.000000   \n",
       "mean      -0.004652     -0.007498      4.336381      1.171051      1.225345   \n",
       "std        0.993984      0.802696      3.273376      0.606730      0.749104   \n",
       "min       -0.411453     -0.251940      0.000000      0.000000      0.000000   \n",
       "25%       -0.411453     -0.251940      1.000000      1.000000      1.000000   \n",
       "50%       -0.411453     -0.251940      4.000000      1.000000      1.000000   \n",
       "75%       -0.411453     -0.251940      7.000000      2.000000      2.000000   \n",
       "max        8.127648     23.625644     11.000000      2.000000      3.000000   \n",
       "\n",
       "         feature_10    feature_11    feature_12    feature_13    feature_14  \\\n",
       "count  33908.000000  33908.000000  33908.000000  33908.000000  33908.000000   \n",
       "mean       0.018137      0.555503      0.159667      0.639407      5.520497   \n",
       "std        0.133450      0.496917      0.366303      0.897627      3.003241   \n",
       "min        0.000000      0.000000      0.000000      0.000000      0.000000   \n",
       "25%        0.000000      0.000000      0.000000      0.000000      3.000000   \n",
       "50%        0.000000      1.000000      0.000000      0.000000      6.000000   \n",
       "75%        0.000000      1.000000      0.000000      2.000000      8.000000   \n",
       "max        1.000000      1.000000      1.000000      2.000000     11.000000   \n",
       "\n",
       "         feature_15        labels  \n",
       "count  33908.000000  33908.000000  \n",
       "mean       2.562375      0.116993  \n",
       "std        0.987148      0.321417  \n",
       "min        0.000000      0.000000  \n",
       "25%        3.000000      0.000000  \n",
       "50%        3.000000      0.000000  \n",
       "75%        3.000000      0.000000  \n",
       "max        3.000000      1.000000  "
      ]
     },
     "execution_count": 9,
     "metadata": {},
     "output_type": "execute_result"
    }
   ],
   "source": [
    "insurance_churn_train.describe()"
   ]
  },
  {
   "cell_type": "markdown",
   "metadata": {},
   "source": [
    "## Correlation HeatMap"
   ]
  },
  {
   "cell_type": "code",
   "execution_count": 10,
   "metadata": {},
   "outputs": [
    {
     "data": {
      "text/html": [
       "<div>\n",
       "<style scoped>\n",
       "    .dataframe tbody tr th:only-of-type {\n",
       "        vertical-align: middle;\n",
       "    }\n",
       "\n",
       "    .dataframe tbody tr th {\n",
       "        vertical-align: top;\n",
       "    }\n",
       "\n",
       "    .dataframe thead th {\n",
       "        text-align: right;\n",
       "    }\n",
       "</style>\n",
       "<table border=\"1\" class=\"dataframe\">\n",
       "  <thead>\n",
       "    <tr style=\"text-align: right;\">\n",
       "      <th></th>\n",
       "      <th>feature_0</th>\n",
       "      <th>feature_1</th>\n",
       "      <th>feature_2</th>\n",
       "      <th>feature_3</th>\n",
       "      <th>feature_4</th>\n",
       "      <th>feature_5</th>\n",
       "      <th>feature_6</th>\n",
       "      <th>feature_7</th>\n",
       "      <th>feature_8</th>\n",
       "      <th>feature_9</th>\n",
       "      <th>feature_10</th>\n",
       "      <th>feature_11</th>\n",
       "      <th>feature_12</th>\n",
       "      <th>feature_13</th>\n",
       "      <th>feature_14</th>\n",
       "      <th>feature_15</th>\n",
       "      <th>labels</th>\n",
       "    </tr>\n",
       "  </thead>\n",
       "  <tbody>\n",
       "    <tr>\n",
       "      <td>feature_0</td>\n",
       "      <td>1.000000</td>\n",
       "      <td>0.096391</td>\n",
       "      <td>-0.011224</td>\n",
       "      <td>-0.007262</td>\n",
       "      <td>0.003125</td>\n",
       "      <td>-0.021076</td>\n",
       "      <td>0.003105</td>\n",
       "      <td>-0.020858</td>\n",
       "      <td>-0.406850</td>\n",
       "      <td>-0.105244</td>\n",
       "      <td>-0.020580</td>\n",
       "      <td>-0.182078</td>\n",
       "      <td>-0.015597</td>\n",
       "      <td>0.028699</td>\n",
       "      <td>-0.040374</td>\n",
       "      <td>0.006381</td>\n",
       "      <td>0.019405</td>\n",
       "    </tr>\n",
       "    <tr>\n",
       "      <td>feature_1</td>\n",
       "      <td>0.096391</td>\n",
       "      <td>1.000000</td>\n",
       "      <td>0.005365</td>\n",
       "      <td>0.017720</td>\n",
       "      <td>-0.013162</td>\n",
       "      <td>0.004524</td>\n",
       "      <td>0.021292</td>\n",
       "      <td>0.018648</td>\n",
       "      <td>-0.000714</td>\n",
       "      <td>0.065006</td>\n",
       "      <td>-0.066072</td>\n",
       "      <td>-0.070495</td>\n",
       "      <td>-0.083485</td>\n",
       "      <td>-0.030686</td>\n",
       "      <td>0.015220</td>\n",
       "      <td>-0.021289</td>\n",
       "      <td>0.048611</td>\n",
       "    </tr>\n",
       "    <tr>\n",
       "      <td>feature_2</td>\n",
       "      <td>-0.011224</td>\n",
       "      <td>0.005365</td>\n",
       "      <td>1.000000</td>\n",
       "      <td>-0.031505</td>\n",
       "      <td>0.162574</td>\n",
       "      <td>-0.095046</td>\n",
       "      <td>-0.055874</td>\n",
       "      <td>0.023044</td>\n",
       "      <td>-0.006331</td>\n",
       "      <td>0.022440</td>\n",
       "      <td>0.012235</td>\n",
       "      <td>-0.027770</td>\n",
       "      <td>0.007430</td>\n",
       "      <td>-0.029314</td>\n",
       "      <td>-0.005105</td>\n",
       "      <td>0.084358</td>\n",
       "      <td>-0.033345</td>\n",
       "    </tr>\n",
       "    <tr>\n",
       "      <td>feature_3</td>\n",
       "      <td>-0.007262</td>\n",
       "      <td>0.017720</td>\n",
       "      <td>-0.031505</td>\n",
       "      <td>1.000000</td>\n",
       "      <td>-0.084617</td>\n",
       "      <td>0.001482</td>\n",
       "      <td>0.001489</td>\n",
       "      <td>0.000688</td>\n",
       "      <td>0.011788</td>\n",
       "      <td>0.003468</td>\n",
       "      <td>-0.010831</td>\n",
       "      <td>0.009210</td>\n",
       "      <td>-0.009263</td>\n",
       "      <td>-0.020733</td>\n",
       "      <td>0.006277</td>\n",
       "      <td>0.009662</td>\n",
       "      <td>0.392971</td>\n",
       "    </tr>\n",
       "    <tr>\n",
       "      <td>feature_4</td>\n",
       "      <td>0.003125</td>\n",
       "      <td>-0.013162</td>\n",
       "      <td>0.162574</td>\n",
       "      <td>-0.084617</td>\n",
       "      <td>1.000000</td>\n",
       "      <td>-0.091533</td>\n",
       "      <td>-0.045145</td>\n",
       "      <td>0.007676</td>\n",
       "      <td>-0.009894</td>\n",
       "      <td>0.004970</td>\n",
       "      <td>0.017115</td>\n",
       "      <td>-0.020753</td>\n",
       "      <td>0.005064</td>\n",
       "      <td>0.024970</td>\n",
       "      <td>-0.109652</td>\n",
       "      <td>0.105265</td>\n",
       "      <td>-0.075025</td>\n",
       "    </tr>\n",
       "    <tr>\n",
       "      <td>feature_5</td>\n",
       "      <td>-0.021076</td>\n",
       "      <td>0.004524</td>\n",
       "      <td>-0.095046</td>\n",
       "      <td>0.001482</td>\n",
       "      <td>-0.091533</td>\n",
       "      <td>1.000000</td>\n",
       "      <td>0.547919</td>\n",
       "      <td>-0.022786</td>\n",
       "      <td>0.017101</td>\n",
       "      <td>0.003437</td>\n",
       "      <td>-0.027930</td>\n",
       "      <td>0.122215</td>\n",
       "      <td>-0.022871</td>\n",
       "      <td>-0.243657</td>\n",
       "      <td>0.031530</td>\n",
       "      <td>-0.856851</td>\n",
       "      <td>0.106239</td>\n",
       "    </tr>\n",
       "    <tr>\n",
       "      <td>feature_6</td>\n",
       "      <td>0.003105</td>\n",
       "      <td>0.021292</td>\n",
       "      <td>-0.055874</td>\n",
       "      <td>0.001489</td>\n",
       "      <td>-0.045145</td>\n",
       "      <td>0.547919</td>\n",
       "      <td>1.000000</td>\n",
       "      <td>0.001753</td>\n",
       "      <td>0.019752</td>\n",
       "      <td>0.021266</td>\n",
       "      <td>-0.018799</td>\n",
       "      <td>0.039526</td>\n",
       "      <td>-0.010990</td>\n",
       "      <td>-0.176610</td>\n",
       "      <td>0.030134</td>\n",
       "      <td>-0.594264</td>\n",
       "      <td>0.119322</td>\n",
       "    </tr>\n",
       "    <tr>\n",
       "      <td>feature_7</td>\n",
       "      <td>-0.020858</td>\n",
       "      <td>0.018648</td>\n",
       "      <td>0.023044</td>\n",
       "      <td>0.000688</td>\n",
       "      <td>0.007676</td>\n",
       "      <td>-0.022786</td>\n",
       "      <td>0.001753</td>\n",
       "      <td>1.000000</td>\n",
       "      <td>0.058998</td>\n",
       "      <td>0.163618</td>\n",
       "      <td>-0.007553</td>\n",
       "      <td>-0.124799</td>\n",
       "      <td>-0.034169</td>\n",
       "      <td>-0.080982</td>\n",
       "      <td>-0.091335</td>\n",
       "      <td>0.009890</td>\n",
       "      <td>0.038588</td>\n",
       "    </tr>\n",
       "    <tr>\n",
       "      <td>feature_8</td>\n",
       "      <td>-0.406850</td>\n",
       "      <td>-0.000714</td>\n",
       "      <td>-0.006331</td>\n",
       "      <td>0.011788</td>\n",
       "      <td>-0.009894</td>\n",
       "      <td>0.017101</td>\n",
       "      <td>0.019752</td>\n",
       "      <td>0.058998</td>\n",
       "      <td>1.000000</td>\n",
       "      <td>0.108495</td>\n",
       "      <td>-0.005900</td>\n",
       "      <td>-0.014665</td>\n",
       "      <td>-0.046986</td>\n",
       "      <td>-0.035879</td>\n",
       "      <td>-0.005906</td>\n",
       "      <td>-0.015697</td>\n",
       "      <td>0.046193</td>\n",
       "    </tr>\n",
       "    <tr>\n",
       "      <td>feature_9</td>\n",
       "      <td>-0.105244</td>\n",
       "      <td>0.065006</td>\n",
       "      <td>0.022440</td>\n",
       "      <td>0.003468</td>\n",
       "      <td>0.004970</td>\n",
       "      <td>0.003437</td>\n",
       "      <td>0.021266</td>\n",
       "      <td>0.163618</td>\n",
       "      <td>0.108495</td>\n",
       "      <td>1.000000</td>\n",
       "      <td>-0.013744</td>\n",
       "      <td>-0.090923</td>\n",
       "      <td>-0.046003</td>\n",
       "      <td>-0.112665</td>\n",
       "      <td>-0.058534</td>\n",
       "      <td>-0.022458</td>\n",
       "      <td>0.068356</td>\n",
       "    </tr>\n",
       "    <tr>\n",
       "      <td>feature_10</td>\n",
       "      <td>-0.020580</td>\n",
       "      <td>-0.066072</td>\n",
       "      <td>0.012235</td>\n",
       "      <td>-0.010831</td>\n",
       "      <td>0.017115</td>\n",
       "      <td>-0.027930</td>\n",
       "      <td>-0.018799</td>\n",
       "      <td>-0.007553</td>\n",
       "      <td>-0.005900</td>\n",
       "      <td>-0.013744</td>\n",
       "      <td>1.000000</td>\n",
       "      <td>-0.005174</td>\n",
       "      <td>0.078315</td>\n",
       "      <td>0.013976</td>\n",
       "      <td>0.013017</td>\n",
       "      <td>0.032717</td>\n",
       "      <td>-0.023344</td>\n",
       "    </tr>\n",
       "    <tr>\n",
       "      <td>feature_11</td>\n",
       "      <td>-0.182078</td>\n",
       "      <td>-0.070495</td>\n",
       "      <td>-0.027770</td>\n",
       "      <td>0.009210</td>\n",
       "      <td>-0.020753</td>\n",
       "      <td>0.122215</td>\n",
       "      <td>0.039526</td>\n",
       "      <td>-0.124799</td>\n",
       "      <td>-0.014665</td>\n",
       "      <td>-0.090923</td>\n",
       "      <td>-0.005174</td>\n",
       "      <td>1.000000</td>\n",
       "      <td>0.042371</td>\n",
       "      <td>0.188053</td>\n",
       "      <td>0.267342</td>\n",
       "      <td>-0.099257</td>\n",
       "      <td>-0.135662</td>\n",
       "    </tr>\n",
       "    <tr>\n",
       "      <td>feature_12</td>\n",
       "      <td>-0.015597</td>\n",
       "      <td>-0.083485</td>\n",
       "      <td>0.007430</td>\n",
       "      <td>-0.009263</td>\n",
       "      <td>0.005064</td>\n",
       "      <td>-0.022871</td>\n",
       "      <td>-0.010990</td>\n",
       "      <td>-0.034169</td>\n",
       "      <td>-0.046986</td>\n",
       "      <td>-0.046003</td>\n",
       "      <td>0.078315</td>\n",
       "      <td>0.042371</td>\n",
       "      <td>1.000000</td>\n",
       "      <td>-0.010203</td>\n",
       "      <td>0.025174</td>\n",
       "      <td>0.016092</td>\n",
       "      <td>-0.065480</td>\n",
       "    </tr>\n",
       "    <tr>\n",
       "      <td>feature_13</td>\n",
       "      <td>0.028699</td>\n",
       "      <td>-0.030686</td>\n",
       "      <td>-0.029314</td>\n",
       "      <td>-0.020733</td>\n",
       "      <td>0.024970</td>\n",
       "      <td>-0.243657</td>\n",
       "      <td>-0.176610</td>\n",
       "      <td>-0.080982</td>\n",
       "      <td>-0.035879</td>\n",
       "      <td>-0.112665</td>\n",
       "      <td>0.013976</td>\n",
       "      <td>0.188053</td>\n",
       "      <td>-0.010203</td>\n",
       "      <td>1.000000</td>\n",
       "      <td>0.361038</td>\n",
       "      <td>0.270935</td>\n",
       "      <td>-0.148583</td>\n",
       "    </tr>\n",
       "    <tr>\n",
       "      <td>feature_14</td>\n",
       "      <td>-0.040374</td>\n",
       "      <td>0.015220</td>\n",
       "      <td>-0.005105</td>\n",
       "      <td>0.006277</td>\n",
       "      <td>-0.109652</td>\n",
       "      <td>0.031530</td>\n",
       "      <td>0.030134</td>\n",
       "      <td>-0.091335</td>\n",
       "      <td>-0.005906</td>\n",
       "      <td>-0.058534</td>\n",
       "      <td>0.013017</td>\n",
       "      <td>0.267342</td>\n",
       "      <td>0.025174</td>\n",
       "      <td>0.361038</td>\n",
       "      <td>1.000000</td>\n",
       "      <td>-0.033727</td>\n",
       "      <td>-0.026178</td>\n",
       "    </tr>\n",
       "    <tr>\n",
       "      <td>feature_15</td>\n",
       "      <td>0.006381</td>\n",
       "      <td>-0.021289</td>\n",
       "      <td>0.084358</td>\n",
       "      <td>0.009662</td>\n",
       "      <td>0.105265</td>\n",
       "      <td>-0.856851</td>\n",
       "      <td>-0.594264</td>\n",
       "      <td>0.009890</td>\n",
       "      <td>-0.015697</td>\n",
       "      <td>-0.022458</td>\n",
       "      <td>0.032717</td>\n",
       "      <td>-0.099257</td>\n",
       "      <td>0.016092</td>\n",
       "      <td>0.270935</td>\n",
       "      <td>-0.033727</td>\n",
       "      <td>1.000000</td>\n",
       "      <td>-0.079190</td>\n",
       "    </tr>\n",
       "    <tr>\n",
       "      <td>labels</td>\n",
       "      <td>0.019405</td>\n",
       "      <td>0.048611</td>\n",
       "      <td>-0.033345</td>\n",
       "      <td>0.392971</td>\n",
       "      <td>-0.075025</td>\n",
       "      <td>0.106239</td>\n",
       "      <td>0.119322</td>\n",
       "      <td>0.038588</td>\n",
       "      <td>0.046193</td>\n",
       "      <td>0.068356</td>\n",
       "      <td>-0.023344</td>\n",
       "      <td>-0.135662</td>\n",
       "      <td>-0.065480</td>\n",
       "      <td>-0.148583</td>\n",
       "      <td>-0.026178</td>\n",
       "      <td>-0.079190</td>\n",
       "      <td>1.000000</td>\n",
       "    </tr>\n",
       "  </tbody>\n",
       "</table>\n",
       "</div>"
      ],
      "text/plain": [
       "            feature_0  feature_1  feature_2  feature_3  feature_4  feature_5  \\\n",
       "feature_0    1.000000   0.096391  -0.011224  -0.007262   0.003125  -0.021076   \n",
       "feature_1    0.096391   1.000000   0.005365   0.017720  -0.013162   0.004524   \n",
       "feature_2   -0.011224   0.005365   1.000000  -0.031505   0.162574  -0.095046   \n",
       "feature_3   -0.007262   0.017720  -0.031505   1.000000  -0.084617   0.001482   \n",
       "feature_4    0.003125  -0.013162   0.162574  -0.084617   1.000000  -0.091533   \n",
       "feature_5   -0.021076   0.004524  -0.095046   0.001482  -0.091533   1.000000   \n",
       "feature_6    0.003105   0.021292  -0.055874   0.001489  -0.045145   0.547919   \n",
       "feature_7   -0.020858   0.018648   0.023044   0.000688   0.007676  -0.022786   \n",
       "feature_8   -0.406850  -0.000714  -0.006331   0.011788  -0.009894   0.017101   \n",
       "feature_9   -0.105244   0.065006   0.022440   0.003468   0.004970   0.003437   \n",
       "feature_10  -0.020580  -0.066072   0.012235  -0.010831   0.017115  -0.027930   \n",
       "feature_11  -0.182078  -0.070495  -0.027770   0.009210  -0.020753   0.122215   \n",
       "feature_12  -0.015597  -0.083485   0.007430  -0.009263   0.005064  -0.022871   \n",
       "feature_13   0.028699  -0.030686  -0.029314  -0.020733   0.024970  -0.243657   \n",
       "feature_14  -0.040374   0.015220  -0.005105   0.006277  -0.109652   0.031530   \n",
       "feature_15   0.006381  -0.021289   0.084358   0.009662   0.105265  -0.856851   \n",
       "labels       0.019405   0.048611  -0.033345   0.392971  -0.075025   0.106239   \n",
       "\n",
       "            feature_6  feature_7  feature_8  feature_9  feature_10  \\\n",
       "feature_0    0.003105  -0.020858  -0.406850  -0.105244   -0.020580   \n",
       "feature_1    0.021292   0.018648  -0.000714   0.065006   -0.066072   \n",
       "feature_2   -0.055874   0.023044  -0.006331   0.022440    0.012235   \n",
       "feature_3    0.001489   0.000688   0.011788   0.003468   -0.010831   \n",
       "feature_4   -0.045145   0.007676  -0.009894   0.004970    0.017115   \n",
       "feature_5    0.547919  -0.022786   0.017101   0.003437   -0.027930   \n",
       "feature_6    1.000000   0.001753   0.019752   0.021266   -0.018799   \n",
       "feature_7    0.001753   1.000000   0.058998   0.163618   -0.007553   \n",
       "feature_8    0.019752   0.058998   1.000000   0.108495   -0.005900   \n",
       "feature_9    0.021266   0.163618   0.108495   1.000000   -0.013744   \n",
       "feature_10  -0.018799  -0.007553  -0.005900  -0.013744    1.000000   \n",
       "feature_11   0.039526  -0.124799  -0.014665  -0.090923   -0.005174   \n",
       "feature_12  -0.010990  -0.034169  -0.046986  -0.046003    0.078315   \n",
       "feature_13  -0.176610  -0.080982  -0.035879  -0.112665    0.013976   \n",
       "feature_14   0.030134  -0.091335  -0.005906  -0.058534    0.013017   \n",
       "feature_15  -0.594264   0.009890  -0.015697  -0.022458    0.032717   \n",
       "labels       0.119322   0.038588   0.046193   0.068356   -0.023344   \n",
       "\n",
       "            feature_11  feature_12  feature_13  feature_14  feature_15  \\\n",
       "feature_0    -0.182078   -0.015597    0.028699   -0.040374    0.006381   \n",
       "feature_1    -0.070495   -0.083485   -0.030686    0.015220   -0.021289   \n",
       "feature_2    -0.027770    0.007430   -0.029314   -0.005105    0.084358   \n",
       "feature_3     0.009210   -0.009263   -0.020733    0.006277    0.009662   \n",
       "feature_4    -0.020753    0.005064    0.024970   -0.109652    0.105265   \n",
       "feature_5     0.122215   -0.022871   -0.243657    0.031530   -0.856851   \n",
       "feature_6     0.039526   -0.010990   -0.176610    0.030134   -0.594264   \n",
       "feature_7    -0.124799   -0.034169   -0.080982   -0.091335    0.009890   \n",
       "feature_8    -0.014665   -0.046986   -0.035879   -0.005906   -0.015697   \n",
       "feature_9    -0.090923   -0.046003   -0.112665   -0.058534   -0.022458   \n",
       "feature_10   -0.005174    0.078315    0.013976    0.013017    0.032717   \n",
       "feature_11    1.000000    0.042371    0.188053    0.267342   -0.099257   \n",
       "feature_12    0.042371    1.000000   -0.010203    0.025174    0.016092   \n",
       "feature_13    0.188053   -0.010203    1.000000    0.361038    0.270935   \n",
       "feature_14    0.267342    0.025174    0.361038    1.000000   -0.033727   \n",
       "feature_15   -0.099257    0.016092    0.270935   -0.033727    1.000000   \n",
       "labels       -0.135662   -0.065480   -0.148583   -0.026178   -0.079190   \n",
       "\n",
       "              labels  \n",
       "feature_0   0.019405  \n",
       "feature_1   0.048611  \n",
       "feature_2  -0.033345  \n",
       "feature_3   0.392971  \n",
       "feature_4  -0.075025  \n",
       "feature_5   0.106239  \n",
       "feature_6   0.119322  \n",
       "feature_7   0.038588  \n",
       "feature_8   0.046193  \n",
       "feature_9   0.068356  \n",
       "feature_10 -0.023344  \n",
       "feature_11 -0.135662  \n",
       "feature_12 -0.065480  \n",
       "feature_13 -0.148583  \n",
       "feature_14 -0.026178  \n",
       "feature_15 -0.079190  \n",
       "labels      1.000000  "
      ]
     },
     "execution_count": 10,
     "metadata": {},
     "output_type": "execute_result"
    }
   ],
   "source": [
    "insurance_churn_train_corr = insurance_churn_train.corr()\n",
    "insurance_churn_train_corr"
   ]
  },
  {
   "cell_type": "code",
   "execution_count": 11,
   "metadata": {},
   "outputs": [
    {
     "data": {
      "text/plain": [
       "(17.0, 0.0)"
      ]
     },
     "execution_count": 11,
     "metadata": {},
     "output_type": "execute_result"
    },
    {
     "data": {
      "image/png": "[encoded data removed]",
      "text/plain": [
       "<Figure size 1440x1440 with 2 Axes>"
      ]
     },
     "metadata": {
      "needs_background": "light"
     },
     "output_type": "display_data"
    }
   ],
   "source": [
    "plt.figure(figsize=(20,20))\n",
    "ax = sns.heatmap(insurance_churn_train_corr, annot=True, cmap='viridis', linecolor ='white', square=1, linewidths=3)\n",
    "plt.title('Correlation HeatMap')\n",
    "bottom, top = ax.get_ylim()\n",
    "ax.set_ylim(bottom + 0.5, top - 0.5)"
   ]
  },
  {
   "cell_type": "code",
   "execution_count": 12,
   "metadata": {},
   "outputs": [
    {
     "name": "stdout",
     "output_type": "stream",
     "text": [
      "Shape of X: (33908, 16)\n",
      "Shape of y: (33908,)\n"
     ]
    }
   ],
   "source": [
    "X = insurance_churn_train.iloc[:, :-1].values\n",
    "y = insurance_churn_train.iloc[:, -1].values\n",
    "print(\"Shape of X:\", X.shape)\n",
    "print(\"Shape of y:\", y.shape)"
   ]
  },
  {
   "cell_type": "markdown",
   "metadata": {},
   "source": [
    "# Splitting the dataset into the Training set and Test set"
   ]
  },
  {
   "cell_type": "code",
   "execution_count": 13,
   "metadata": {},
   "outputs": [],
   "source": [
    "from sklearn.model_selection import train_test_split\n",
    "X_train, X_test, y_train, y_test = train_test_split(X, y, test_size = 0.2, random_state = 100)"
   ]
  },
  {
   "cell_type": "code",
   "execution_count": 14,
   "metadata": {},
   "outputs": [
    {
     "data": {
      "text/plain": [
       "array([[-0.65321051,  0.59273783,  0.62404969, ...,  0.        ,\n",
       "         9.        ,  3.        ],\n",
       "       [ 1.79531291,  0.36677379, -0.09689757, ...,  2.        ,\n",
       "         8.        ,  3.        ],\n",
       "       [ 0.5710512 , -0.44741934,  0.62404969, ...,  0.        ,\n",
       "         9.        ,  0.        ],\n",
       "       ...,\n",
       "       [ 1.70113894, -0.40045298,  0.38373394, ...,  2.        ,\n",
       "         6.        ,  3.        ],\n",
       "       [-1.31242835, -0.37582027, -0.21705545, ...,  0.        ,\n",
       "         8.        ,  0.        ],\n",
       "       [ 0.5710512 ,  0.35987663,  0.98452332, ...,  0.        ,\n",
       "         5.        ,  3.        ]])"
      ]
     },
     "execution_count": 14,
     "metadata": {},
     "output_type": "execute_result"
    }
   ],
   "source": [
    "X_train"
   ]
  },
  {
   "cell_type": "markdown",
   "metadata": {},
   "source": [
    "# Feature Scaling of the Train Dataset"
   ]
  },
  {
   "cell_type": "code",
   "execution_count": 15,
   "metadata": {},
   "outputs": [],
   "source": [
    "from sklearn.preprocessing import StandardScaler\n",
    "sc = StandardScaler()\n",
    "X_train = sc.fit_transform(X_train)\n",
    "X_test = sc.transform(X_test)"
   ]
  },
  {
   "cell_type": "markdown",
   "metadata": {},
   "source": [
    "# Importing the Test Dataset"
   ]
  },
  {
   "cell_type": "code",
   "execution_count": 16,
   "metadata": {},
   "outputs": [],
   "source": [
    "insurance_churn_train_test = pd.read_csv('Insurance_Churn_ParticipantsData_Test.csv')"
   ]
  },
  {
   "cell_type": "code",
   "execution_count": 17,
   "metadata": {},
   "outputs": [],
   "source": [
    "X_test_new = insurance_churn_train_test.iloc[:, :].values"
   ]
  },
  {
   "cell_type": "code",
   "execution_count": 18,
   "metadata": {},
   "outputs": [
    {
     "data": {
      "text/plain": [
       "(11303, 16)"
      ]
     },
     "execution_count": 18,
     "metadata": {},
     "output_type": "execute_result"
    }
   ],
   "source": [
    "X_test_new.shape"
   ]
  },
  {
   "cell_type": "markdown",
   "metadata": {},
   "source": [
    "# Feature Scaling of the Test Dataset"
   ]
  },
  {
   "cell_type": "code",
   "execution_count": 19,
   "metadata": {},
   "outputs": [],
   "source": [
    "X_test_new = sc.transform(X_test_new)"
   ]
  },
  {
   "cell_type": "code",
   "execution_count": 20,
   "metadata": {},
   "outputs": [
    {
     "data": {
      "text/plain": [
       "array([[ 0.57668471,  0.40636333,  0.9876633 , ..., -0.70851109,\n",
       "         1.82343583,  0.44501173],\n",
       "       [-1.12236487, -0.1660574 ,  0.50674505, ..., -0.70851109,\n",
       "        -0.17365121, -1.5710865 ],\n",
       "       [ 0.48229307,  0.1452189 , -0.57532102, ..., -0.70851109,\n",
       "        -1.50504256,  0.44501173],\n",
       "       ...,\n",
       "       [-0.55601501,  0.36868251,  1.10789287, ..., -0.70851109,\n",
       "         0.82489231,  0.44501173],\n",
       "       [-0.65040665, -0.43899756,  0.14605636, ..., -0.70851109,\n",
       "        -1.8378904 , -2.57913561],\n",
       "       [-0.93358158, -0.07988302,  1.46858156, ...,  1.52496616,\n",
       "         0.82489231,  0.44501173]])"
      ]
     },
     "execution_count": 20,
     "metadata": {},
     "output_type": "execute_result"
    }
   ],
   "source": [
    "X_test_new"
   ]
  },
  {
   "cell_type": "markdown",
   "metadata": {},
   "source": [
    "# IMPLEMENTATION OF DIFFERENT MODELS"
   ]
  },
  {
   "cell_type": "markdown",
   "metadata": {},
   "source": [
    "## 1. Logistic Regression"
   ]
  },
  {
   "cell_type": "code",
   "execution_count": 21,
   "metadata": {},
   "outputs": [
    {
     "data": {
      "text/plain": [
       "LogisticRegression(C=1.0, class_weight=None, dual=False, fit_intercept=True,\n",
       "                   intercept_scaling=1, l1_ratio=None, max_iter=100,\n",
       "                   multi_class='warn', n_jobs=None, penalty='l2',\n",
       "                   random_state=0, solver='lbfgs', tol=0.0001, verbose=0,\n",
       "                   warm_start=False)"
      ]
     },
     "execution_count": 21,
     "metadata": {},
     "output_type": "execute_result"
    }
   ],
   "source": [
    "from sklearn.linear_model import LogisticRegression\n",
    "classifier_logis = LogisticRegression(random_state = 0, solver='lbfgs')\n",
    "classifier_logis.fit(X_train, y_train)"
   ]
  },
  {
   "cell_type": "code",
   "execution_count": 22,
   "metadata": {},
   "outputs": [
    {
     "name": "stdout",
     "output_type": "stream",
     "text": [
      "[[0 0]\n",
      " [0 1]\n",
      " [0 0]\n",
      " ...\n",
      " [0 0]\n",
      " [0 0]\n",
      " [0 0]]\n"
     ]
    }
   ],
   "source": [
    "y_pred_logis = classifier_logis.predict(X_test)\n",
    "print(np.concatenate((y_pred_logis.reshape(len(y_pred_logis),1), y_test.reshape(len(y_test),1)),1))"
   ]
  },
  {
   "cell_type": "code",
   "execution_count": 23,
   "metadata": {},
   "outputs": [
    {
     "name": "stdout",
     "output_type": "stream",
     "text": [
      "[[0.9436108  0.0563892 ]\n",
      " [0.83957578 0.16042422]\n",
      " [0.96011125 0.03988875]\n",
      " ...\n",
      " [0.97266671 0.02733329]\n",
      " [0.97393843 0.02606157]\n",
      " [0.98280949 0.01719051]]\n"
     ]
    }
   ],
   "source": [
    "y_prob_logis = classifier_logis.predict_proba(X_test)\n",
    "print(y_prob_logis)"
   ]
  },
  {
   "cell_type": "code",
   "execution_count": 24,
   "metadata": {},
   "outputs": [
    {
     "name": "stdout",
     "output_type": "stream",
     "text": [
      "[[5848  117]\n",
      " [ 660  157]]\n"
     ]
    },
    {
     "data": {
      "text/plain": [
       "0.8854320259510469"
      ]
     },
     "execution_count": 24,
     "metadata": {},
     "output_type": "execute_result"
    }
   ],
   "source": [
    "conf_matrix_logis = confusion_matrix(y_test, y_pred_logis)\n",
    "print(conf_matrix_logis)\n",
    "accuracy_score(y_test, y_pred_logis)"
   ]
  },
  {
   "cell_type": "code",
   "execution_count": 25,
   "metadata": {},
   "outputs": [
    {
     "name": "stdout",
     "output_type": "stream",
     "text": [
      "Cross-validation scores: [0.89341    0.88734886 0.89101902 0.88851202 0.89293615]\n",
      "Mean accuracy: 0.89\n",
      "Standard Deviation: 0.00\n"
     ]
    }
   ],
   "source": [
    "scores_logis = cross_val_score(classifier_logis, X, y, cv=5)\n",
    "print(\"Cross-validation scores: {}\" . format(scores_logis))\n",
    "print(\"Mean accuracy: {:.2f}\" . format(scores_logis.mean()))\n",
    "print(\"Standard Deviation: {:.2f}\" . format(scores_logis.std()))"
   ]
  },
  {
   "cell_type": "markdown",
   "metadata": {},
   "source": [
    "## 2. SVM"
   ]
  },
  {
   "cell_type": "code",
   "execution_count": 26,
   "metadata": {},
   "outputs": [
    {
     "data": {
      "text/plain": [
       "SVC(C=1.0, cache_size=200, class_weight=None, coef0=0.0,\n",
       "    decision_function_shape='ovr', degree=3, gamma='auto_deprecated',\n",
       "    kernel='linear', max_iter=-1, probability=True, random_state=0,\n",
       "    shrinking=True, tol=0.001, verbose=False)"
      ]
     },
     "execution_count": 26,
     "metadata": {},
     "output_type": "execute_result"
    }
   ],
   "source": [
    "from sklearn.svm import SVC\n",
    "classifier_svm = SVC(kernel = 'linear', random_state = 0, probability=True)\n",
    "classifier_svm.fit(X_train, y_train)"
   ]
  },
  {
   "cell_type": "code",
   "execution_count": 27,
   "metadata": {},
   "outputs": [
    {
     "name": "stdout",
     "output_type": "stream",
     "text": [
      "[[0 0]\n",
      " [0 1]\n",
      " [0 0]\n",
      " ...\n",
      " [0 0]\n",
      " [0 0]\n",
      " [0 0]]\n"
     ]
    }
   ],
   "source": [
    "y_pred_svm = classifier_svm.predict(X_test)\n",
    "print(np.concatenate((y_pred_svm.reshape(len(y_pred_svm),1), y_test.reshape(len(y_test),1)),1))"
   ]
  },
  {
   "cell_type": "code",
   "execution_count": 28,
   "metadata": {},
   "outputs": [
    {
     "name": "stdout",
     "output_type": "stream",
     "text": [
      "[[0.88619265 0.11380735]\n",
      " [0.87038139 0.12961861]\n",
      " [0.90243371 0.09756629]\n",
      " ...\n",
      " [0.90810433 0.09189567]\n",
      " [0.90772195 0.09227805]\n",
      " [0.90976383 0.09023617]]\n"
     ]
    }
   ],
   "source": [
    "y_prob_svm = classifier_svm.predict_proba(X_test)\n",
    "print(y_prob_svm)"
   ]
  },
  {
   "cell_type": "code",
   "execution_count": 29,
   "metadata": {},
   "outputs": [
    {
     "name": "stdout",
     "output_type": "stream",
     "text": [
      "[[5965    0]\n",
      " [ 817    0]]\n"
     ]
    },
    {
     "data": {
      "text/plain": [
       "0.8795340607490416"
      ]
     },
     "execution_count": 29,
     "metadata": {},
     "output_type": "execute_result"
    }
   ],
   "source": [
    "conf_matrix_svm = confusion_matrix(y_test, y_pred_svm)\n",
    "print(conf_matrix_svm)\n",
    "accuracy_score(y_test, y_pred_svm)"
   ]
  },
  {
   "cell_type": "code",
   "execution_count": 30,
   "metadata": {},
   "outputs": [
    {
     "name": "stdout",
     "output_type": "stream",
     "text": [
      "Cross-validation scores: [0.88294265 0.88292539 0.8830556  0.8830556  0.8830556 ]\n",
      "Mean accuracy: 0.88\n",
      "Standard Deviation: 0.00\n"
     ]
    }
   ],
   "source": [
    "scores_svm = cross_val_score(classifier_svm, X, y, cv=5, n_jobs=-1)\n",
    "print(\"Cross-validation scores: {}\" . format(scores_svm))\n",
    "print(\"Mean accuracy: {:.2f}\" . format(scores_svm.mean()))\n",
    "print(\"Standard Deviation: {:.2f}\" . format(scores_svm.std()))"
   ]
  },
  {
   "cell_type": "markdown",
   "metadata": {},
   "source": [
    "## 3. Kernel SVM"
   ]
  },
  {
   "cell_type": "code",
   "execution_count": 31,
   "metadata": {},
   "outputs": [
    {
     "data": {
      "text/plain": [
       "SVC(C=1.0, cache_size=200, class_weight=None, coef0=0.0,\n",
       "    decision_function_shape='ovr', degree=3, gamma='auto_deprecated',\n",
       "    kernel='rbf', max_iter=-1, probability=True, random_state=0, shrinking=True,\n",
       "    tol=0.001, verbose=False)"
      ]
     },
     "execution_count": 31,
     "metadata": {},
     "output_type": "execute_result"
    }
   ],
   "source": [
    "from sklearn.svm import SVC\n",
    "classifier_ksvm = SVC(kernel = 'rbf', random_state = 0, probability=True)\n",
    "classifier_ksvm.fit(X_train, y_train)"
   ]
  },
  {
   "cell_type": "code",
   "execution_count": 32,
   "metadata": {},
   "outputs": [
    {
     "name": "stdout",
     "output_type": "stream",
     "text": [
      "[[0 0]\n",
      " [0 1]\n",
      " [0 0]\n",
      " ...\n",
      " [0 0]\n",
      " [0 0]\n",
      " [0 0]]\n"
     ]
    }
   ],
   "source": [
    "y_pred_ksvm = classifier_ksvm.predict(X_test)\n",
    "print(np.concatenate((y_pred_ksvm.reshape(len(y_pred_ksvm),1), y_test.reshape(len(y_test),1)),1))"
   ]
  },
  {
   "cell_type": "code",
   "execution_count": 33,
   "metadata": {},
   "outputs": [
    {
     "name": "stdout",
     "output_type": "stream",
     "text": [
      "[[0.93984153 0.06015847]\n",
      " [0.9254145  0.0745855 ]\n",
      " [0.93998195 0.06001805]\n",
      " ...\n",
      " [0.93434937 0.06565063]\n",
      " [0.94782213 0.05217787]\n",
      " [0.92492493 0.07507507]]\n"
     ]
    }
   ],
   "source": [
    "y_prob_ksvm = classifier_ksvm.predict_proba(X_test)\n",
    "print(y_prob_ksvm)"
   ]
  },
  {
   "cell_type": "code",
   "execution_count": 34,
   "metadata": {},
   "outputs": [
    {
     "name": "stdout",
     "output_type": "stream",
     "text": [
      "[[5868   97]\n",
      " [ 611  206]]\n"
     ]
    },
    {
     "data": {
      "text/plain": [
       "0.8956060159245061"
      ]
     },
     "execution_count": 34,
     "metadata": {},
     "output_type": "execute_result"
    }
   ],
   "source": [
    "conf_matrix_ksvm = confusion_matrix(y_test, y_pred_ksvm)\n",
    "print(conf_matrix_ksvm)\n",
    "accuracy_score(y_test, y_pred_ksvm)"
   ]
  },
  {
   "cell_type": "code",
   "execution_count": 35,
   "metadata": {},
   "outputs": [
    {
     "name": "stdout",
     "output_type": "stream",
     "text": [
      "Cross-validation scores: [0.90328763 0.89737541 0.89868751 0.89677039 0.89603303]\n",
      "Mean accuracy: 0.90\n",
      "Standard Deviation: 0.00\n"
     ]
    }
   ],
   "source": [
    "scores_ksvm = cross_val_score(classifier_ksvm, X, y, cv=5)\n",
    "print(\"Cross-validation scores: {}\" . format(scores_ksvm))\n",
    "print(\"Mean accuracy: {:.2f}\" . format(scores_ksvm.mean()))\n",
    "print(\"Standard Deviation: {:.2f}\" . format(scores_ksvm.std()))"
   ]
  },
  {
   "cell_type": "markdown",
   "metadata": {},
   "source": [
    "## 4. Naive Bayes"
   ]
  },
  {
   "cell_type": "code",
   "execution_count": 36,
   "metadata": {},
   "outputs": [
    {
     "data": {
      "text/plain": [
       "GaussianNB(priors=None, var_smoothing=1e-09)"
      ]
     },
     "execution_count": 36,
     "metadata": {},
     "output_type": "execute_result"
    }
   ],
   "source": [
    "from sklearn.naive_bayes import GaussianNB\n",
    "classifier_nb = GaussianNB()\n",
    "classifier_nb.fit(X_train, y_train)"
   ]
  },
  {
   "cell_type": "code",
   "execution_count": 37,
   "metadata": {},
   "outputs": [
    {
     "name": "stdout",
     "output_type": "stream",
     "text": [
      "[[0 0]\n",
      " [0 1]\n",
      " [0 0]\n",
      " ...\n",
      " [0 0]\n",
      " [0 0]\n",
      " [0 0]]\n"
     ]
    }
   ],
   "source": [
    "y_pred_nb = classifier_nb.predict(X_test)\n",
    "print(np.concatenate((y_pred_nb.reshape(len(y_pred_nb),1), y_test.reshape(len(y_test),1)),1))"
   ]
  },
  {
   "cell_type": "code",
   "execution_count": 38,
   "metadata": {},
   "outputs": [
    {
     "name": "stdout",
     "output_type": "stream",
     "text": [
      "[[0.97137184 0.02862816]\n",
      " [0.87100646 0.12899354]\n",
      " [0.99109007 0.00890993]\n",
      " ...\n",
      " [0.99579866 0.00420134]\n",
      " [0.99794278 0.00205722]\n",
      " [0.99667071 0.00332929]]\n"
     ]
    }
   ],
   "source": [
    "y_prob_nb = classifier_nb.predict_proba(X_test)\n",
    "print(y_prob_nb)"
   ]
  },
  {
   "cell_type": "code",
   "execution_count": 39,
   "metadata": {},
   "outputs": [
    {
     "name": "stdout",
     "output_type": "stream",
     "text": [
      "[[5286  679]\n",
      " [ 452  365]]\n"
     ]
    },
    {
     "data": {
      "text/plain": [
       "0.8332350339132999"
      ]
     },
     "execution_count": 39,
     "metadata": {},
     "output_type": "execute_result"
    }
   ],
   "source": [
    "conf_matrix_nb = confusion_matrix(y_test, y_pred_nb)\n",
    "print(conf_matrix_nb)\n",
    "accuracy_score(y_test, y_pred_nb)"
   ]
  },
  {
   "cell_type": "code",
   "execution_count": 40,
   "metadata": {},
   "outputs": [
    {
     "name": "stdout",
     "output_type": "stream",
     "text": [
      "Cross-validation scores: [0.83502875 0.8307284  0.83011355 0.83601239 0.83498009]\n",
      "Mean accuracy: 0.83\n",
      "Standard Deviation: 0.00\n"
     ]
    }
   ],
   "source": [
    "scores_nb = cross_val_score(classifier_nb, X, y, cv=5)\n",
    "print(\"Cross-validation scores: {}\" . format(scores_nb))\n",
    "print(\"Mean accuracy: {:.2f}\" . format(scores_nb.mean()))\n",
    "print(\"Standard Deviation: {:.2f}\" . format(scores_nb.std()))"
   ]
  },
  {
   "cell_type": "markdown",
   "metadata": {},
   "source": [
    "## 5. Decision Tree"
   ]
  },
  {
   "cell_type": "code",
   "execution_count": 41,
   "metadata": {},
   "outputs": [
    {
     "name": "stdout",
     "output_type": "stream",
     "text": [
      "List of grids: \n",
      "[{'max_depth': range(1, 20), 'criterion': ['gini', 'entropy'], 'min_samples_leaf': range(5, 15)}]\n"
     ]
    }
   ],
   "source": [
    "param_grid = [{'max_depth':range(1,20), 'criterion':['gini','entropy'], 'min_samples_leaf':range(5,15)}]\n",
    "print(\"List of grids: \\n{}\" . format(param_grid))"
   ]
  },
  {
   "cell_type": "code",
   "execution_count": 42,
   "metadata": {},
   "outputs": [
    {
     "name": "stdout",
     "output_type": "stream",
     "text": [
      "Best parameters: {'criterion': 'gini', 'max_depth': 8, 'min_samples_leaf': 12}\n",
      "Best cross-validation score: 0.90\n"
     ]
    }
   ],
   "source": [
    "from sklearn.tree import DecisionTreeClassifier\n",
    "grid_search = GridSearchCV(DecisionTreeClassifier(), param_grid, cv=5)\n",
    "grid_search.fit(X, y)\n",
    "print(\"Best parameters: {}\" . format(grid_search. best_params_))\n",
    "print(\"Best cross-validation score: {:.2f}\" . format(grid_search. best_score_))"
   ]
  },
  {
   "cell_type": "code",
   "execution_count": 43,
   "metadata": {},
   "outputs": [
    {
     "data": {
      "text/plain": [
       "DecisionTreeClassifier(class_weight=None, criterion='gini', max_depth=8,\n",
       "                       max_features=None, max_leaf_nodes=None,\n",
       "                       min_impurity_decrease=0.0, min_impurity_split=None,\n",
       "                       min_samples_leaf=12, min_samples_split=2,\n",
       "                       min_weight_fraction_leaf=0.0, presort=False,\n",
       "                       random_state=0, splitter='best')"
      ]
     },
     "execution_count": 43,
     "metadata": {},
     "output_type": "execute_result"
    }
   ],
   "source": [
    "from sklearn.tree import DecisionTreeClassifier\n",
    "classifier_DT = DecisionTreeClassifier(criterion = 'gini', max_depth = 8, min_samples_leaf = 12, random_state = 0)\n",
    "classifier_DT.fit(X_train, y_train)"
   ]
  },
  {
   "cell_type": "code",
   "execution_count": 44,
   "metadata": {},
   "outputs": [
    {
     "name": "stdout",
     "output_type": "stream",
     "text": [
      "[[0 0]\n",
      " [0 1]\n",
      " [0 0]\n",
      " ...\n",
      " [0 0]\n",
      " [0 0]\n",
      " [0 0]]\n"
     ]
    }
   ],
   "source": [
    "y_pred_DT = classifier_DT.predict(X_test)\n",
    "print(np.concatenate((y_pred_DT.reshape(len(y_pred_DT),1), y_test.reshape(len(y_test),1)),1))"
   ]
  },
  {
   "cell_type": "code",
   "execution_count": 45,
   "metadata": {},
   "outputs": [
    {
     "name": "stdout",
     "output_type": "stream",
     "text": [
      "[[0.90874645 0.09125355]\n",
      " [0.94346667 0.05653333]\n",
      " [0.94346667 0.05653333]\n",
      " ...\n",
      " [0.67195767 0.32804233]\n",
      " [0.99395649 0.00604351]\n",
      " [0.99395649 0.00604351]]\n"
     ]
    }
   ],
   "source": [
    "y_prob_DT = classifier_DT.predict_proba(X_test)\n",
    "print(y_prob_DT)"
   ]
  },
  {
   "cell_type": "code",
   "execution_count": 46,
   "metadata": {},
   "outputs": [
    {
     "name": "stdout",
     "output_type": "stream",
     "text": [
      "[[5767  198]\n",
      " [ 493  324]]\n"
     ]
    },
    {
     "data": {
      "text/plain": [
       "0.8981126511353583"
      ]
     },
     "execution_count": 46,
     "metadata": {},
     "output_type": "execute_result"
    }
   ],
   "source": [
    "conf_matrix_DT = confusion_matrix(y_test, y_pred_DT)\n",
    "print(conf_matrix_DT)\n",
    "accuracy_score(y_test, y_pred_DT)"
   ]
  },
  {
   "cell_type": "code",
   "execution_count": 47,
   "metadata": {},
   "outputs": [
    {
     "name": "stdout",
     "output_type": "stream",
     "text": [
      "Cross-validation scores: [0.90844759 0.89516367 0.9017844  0.8982451  0.89559062]\n",
      "Mean accuracy: 0.90\n",
      "Standard Deviation: 0.00\n"
     ]
    }
   ],
   "source": [
    "scores_DT = cross_val_score(classifier_DT, X, y, cv=5, n_jobs=-1)\n",
    "print(\"Cross-validation scores: {}\" . format(scores_DT))\n",
    "print(\"Mean accuracy: {:.2f}\" . format(scores_DT.mean()))\n",
    "print(\"Standard Deviation: {:.2f}\" . format(scores_DT.std()))"
   ]
  },
  {
   "cell_type": "markdown",
   "metadata": {},
   "source": [
    "## 6. Bagging"
   ]
  },
  {
   "cell_type": "code",
   "execution_count": 48,
   "metadata": {},
   "outputs": [
    {
     "data": {
      "text/plain": [
       "BaggingClassifier(base_estimator=DecisionTreeClassifier(class_weight=None,\n",
       "                                                        criterion='gini',\n",
       "                                                        max_depth=8,\n",
       "                                                        max_features=None,\n",
       "                                                        max_leaf_nodes=None,\n",
       "                                                        min_impurity_decrease=0.0,\n",
       "                                                        min_impurity_split=None,\n",
       "                                                        min_samples_leaf=12,\n",
       "                                                        min_samples_split=2,\n",
       "                                                        min_weight_fraction_leaf=0.0,\n",
       "                                                        presort=False,\n",
       "                                                        random_state=0,\n",
       "                                                        splitter='best'),\n",
       "                  bootstrap=True, bootstrap_features=False, max_features=1.0,\n",
       "                  max_samples=1.0, n_estimators=100, n_jobs=None,\n",
       "                  oob_score=False, random_state=100, verbose=0,\n",
       "                  warm_start=False)"
      ]
     },
     "execution_count": 48,
     "metadata": {},
     "output_type": "execute_result"
    }
   ],
   "source": [
    "from sklearn.ensemble import BaggingClassifier\n",
    "classifier_bag = BaggingClassifier(base_estimator=classifier_DT, n_estimators=100, random_state=100)\n",
    "classifier_bag.fit(X_train, y_train)"
   ]
  },
  {
   "cell_type": "code",
   "execution_count": 49,
   "metadata": {},
   "outputs": [
    {
     "name": "stdout",
     "output_type": "stream",
     "text": [
      "[[0 0]\n",
      " [0 1]\n",
      " [0 0]\n",
      " ...\n",
      " [0 0]\n",
      " [0 0]\n",
      " [0 0]]\n"
     ]
    }
   ],
   "source": [
    "y_pred_bag = classifier_bag.predict(X_test)\n",
    "print(np.concatenate((y_pred_bag.reshape(len(y_pred_bag),1), y_test.reshape(len(y_test),1)),1))"
   ]
  },
  {
   "cell_type": "code",
   "execution_count": 50,
   "metadata": {},
   "outputs": [
    {
     "name": "stdout",
     "output_type": "stream",
     "text": [
      "[[0.92860029 0.07139971]\n",
      " [0.96790056 0.03209944]\n",
      " [0.9728851  0.0271149 ]\n",
      " ...\n",
      " [0.86033069 0.13966931]\n",
      " [0.98665983 0.01334017]\n",
      " [0.99329844 0.00670156]]\n"
     ]
    }
   ],
   "source": [
    "y_prob_bag = classifier_bag.predict_proba(X_test)\n",
    "print(y_prob_bag)"
   ]
  },
  {
   "cell_type": "code",
   "execution_count": 51,
   "metadata": {},
   "outputs": [
    {
     "name": "stdout",
     "output_type": "stream",
     "text": [
      "[[5794  171]\n",
      " [ 496  321]]\n"
     ]
    },
    {
     "data": {
      "text/plain": [
       "0.9016514302565615"
      ]
     },
     "execution_count": 51,
     "metadata": {},
     "output_type": "execute_result"
    }
   ],
   "source": [
    "conf_matrix_bag = confusion_matrix(y_test, y_pred_bag)\n",
    "print(conf_matrix_bag)\n",
    "accuracy_score(y_test, y_pred_bag)"
   ]
  },
  {
   "cell_type": "code",
   "execution_count": 52,
   "metadata": {},
   "outputs": [
    {
     "name": "stdout",
     "output_type": "stream",
     "text": [
      "Cross-validation scores: [0.91051157 0.90135653 0.90340658 0.9007521  0.90281669]\n",
      "Mean accuracy: 0.90\n",
      "Standard Deviation: 0.00\n"
     ]
    }
   ],
   "source": [
    "scores_bag = cross_val_score(classifier_bag, X, y, cv=5)\n",
    "print(\"Cross-validation scores: {}\" . format(scores_bag))\n",
    "print(\"Mean accuracy: {:.2f}\" . format(scores_bag.mean()))\n",
    "print(\"Standard Deviation: {:.2f}\" . format(scores_bag.std()))"
   ]
  },
  {
   "cell_type": "markdown",
   "metadata": {},
   "source": [
    "## 7. Ada_BOOST"
   ]
  },
  {
   "cell_type": "code",
   "execution_count": 53,
   "metadata": {},
   "outputs": [
    {
     "data": {
      "text/plain": [
       "AdaBoostClassifier(algorithm='SAMME.R',\n",
       "                   base_estimator=DecisionTreeClassifier(class_weight=None,\n",
       "                                                         criterion='gini',\n",
       "                                                         max_depth=8,\n",
       "                                                         max_features=None,\n",
       "                                                         max_leaf_nodes=None,\n",
       "                                                         min_impurity_decrease=0.0,\n",
       "                                                         min_impurity_split=None,\n",
       "                                                         min_samples_leaf=12,\n",
       "                                                         min_samples_split=2,\n",
       "                                                         min_weight_fraction_leaf=0.0,\n",
       "                                                         presort=False,\n",
       "                                                         random_state=0,\n",
       "                                                         splitter='best'),\n",
       "                   learning_rate=1.0, n_estimators=100, random_state=100)"
      ]
     },
     "execution_count": 53,
     "metadata": {},
     "output_type": "execute_result"
    }
   ],
   "source": [
    "from sklearn.ensemble import AdaBoostClassifier\n",
    "classifier_ada = AdaBoostClassifier(base_estimator=classifier_DT, n_estimators=100, random_state=100)\n",
    "classifier_ada.fit(X_train, y_train)"
   ]
  },
  {
   "cell_type": "code",
   "execution_count": 54,
   "metadata": {},
   "outputs": [
    {
     "name": "stdout",
     "output_type": "stream",
     "text": [
      "[[0 0]\n",
      " [0 1]\n",
      " [0 0]\n",
      " ...\n",
      " [0 0]\n",
      " [0 0]\n",
      " [0 0]]\n"
     ]
    }
   ],
   "source": [
    "y_pred_ada = classifier_ada.predict(X_test)\n",
    "print(np.concatenate((y_pred_ada.reshape(len(y_pred_ada),1), y_test.reshape(len(y_test),1)),1))"
   ]
  },
  {
   "cell_type": "code",
   "execution_count": 55,
   "metadata": {},
   "outputs": [
    {
     "name": "stdout",
     "output_type": "stream",
     "text": [
      "[[0.7848909  0.2151091 ]\n",
      " [0.87393996 0.12606004]\n",
      " [0.88873962 0.11126038]\n",
      " ...\n",
      " [0.89793976 0.10206024]\n",
      " [0.80130376 0.19869624]\n",
      " [0.96277473 0.03722527]]\n"
     ]
    }
   ],
   "source": [
    "y_prob_ada = classifier_ada.predict_proba(X_test)\n",
    "print(y_prob_ada)"
   ]
  },
  {
   "cell_type": "code",
   "execution_count": 56,
   "metadata": {},
   "outputs": [
    {
     "name": "stdout",
     "output_type": "stream",
     "text": [
      "[[5711  254]\n",
      " [ 509  308]]\n"
     ]
    },
    {
     "data": {
      "text/plain": [
       "0.8874963137717488"
      ]
     },
     "execution_count": 56,
     "metadata": {},
     "output_type": "execute_result"
    }
   ],
   "source": [
    "conf_matrix_ada = confusion_matrix(y_test, y_pred_ada)\n",
    "print(conf_matrix_ada)\n",
    "accuracy_score(y_test, y_pred_ada)"
   ]
  },
  {
   "cell_type": "code",
   "execution_count": 57,
   "metadata": {},
   "outputs": [
    {
     "name": "stdout",
     "output_type": "stream",
     "text": [
      "Cross-validation scores: [0.88677576 0.88911825 0.88806961 0.89352603 0.88939684]\n",
      "Mean accuracy: 0.89\n",
      "Standard Deviation: 0.00\n"
     ]
    }
   ],
   "source": [
    "scores_ada = cross_val_score(classifier_ada, X, y, cv=5)\n",
    "print(\"Cross-validation scores: {}\" . format(scores_ada))\n",
    "print(\"Mean accuracy: {:.2f}\" . format(scores_ada.mean()))\n",
    "print(\"Standard Deviation: {:.2f}\" . format(scores_ada.std()))"
   ]
  },
  {
   "cell_type": "markdown",
   "metadata": {},
   "source": [
    "## 8. XG-Boost"
   ]
  },
  {
   "cell_type": "code",
   "execution_count": 58,
   "metadata": {},
   "outputs": [
    {
     "data": {
      "text/plain": [
       "XGBClassifier(base_score=0.5, booster='gbtree', colsample_bylevel=1,\n",
       "              colsample_bynode=1, colsample_bytree=1, gamma=0, gpu_id=-1,\n",
       "              importance_type='gain', interaction_constraints='',\n",
       "              learning_rate=0.300000012, max_delta_step=0, max_depth=6,\n",
       "              min_child_weight=1, missing=nan, monotone_constraints='()',\n",
       "              n_estimators=100, n_jobs=0, num_parallel_tree=1,\n",
       "              objective='binary:logistic', random_state=0, reg_alpha=0,\n",
       "              reg_lambda=1, scale_pos_weight=1, subsample=1,\n",
       "              tree_method='exact', validate_parameters=1, verbosity=None)"
      ]
     },
     "execution_count": 58,
     "metadata": {},
     "output_type": "execute_result"
    }
   ],
   "source": [
    "from xgboost import XGBClassifier\n",
    "classifier_xg = XGBClassifier()\n",
    "classifier_xg.fit(X_train, y_train)"
   ]
  },
  {
   "cell_type": "code",
   "execution_count": 59,
   "metadata": {},
   "outputs": [
    {
     "name": "stdout",
     "output_type": "stream",
     "text": [
      "[[0 0]\n",
      " [0 1]\n",
      " [0 0]\n",
      " ...\n",
      " [0 0]\n",
      " [0 0]\n",
      " [0 0]]\n"
     ]
    }
   ],
   "source": [
    "y_pred_xg = classifier_xg.predict(X_test)\n",
    "print(np.concatenate((y_pred_xg.reshape(len(y_pred_xg),1), y_test.reshape(len(y_test),1)),1))"
   ]
  },
  {
   "cell_type": "code",
   "execution_count": 60,
   "metadata": {},
   "outputs": [
    {
     "name": "stdout",
     "output_type": "stream",
     "text": [
      "[[0.98647326 0.01352673]\n",
      " [0.9205704  0.07942966]\n",
      " [0.9955993  0.00440069]\n",
      " ...\n",
      " [0.98709244 0.01290754]\n",
      " [0.9983323  0.00166765]\n",
      " [0.99884063 0.00115936]]\n"
     ]
    }
   ],
   "source": [
    "y_prob_xg = classifier_xg.predict_proba(X_test)\n",
    "print(y_prob_xg)"
   ]
  },
  {
   "cell_type": "code",
   "execution_count": 61,
   "metadata": {},
   "outputs": [
    {
     "name": "stdout",
     "output_type": "stream",
     "text": [
      "[[5711  254]\n",
      " [ 509  308]]\n"
     ]
    },
    {
     "data": {
      "text/plain": [
       "0.9050427602477146"
      ]
     },
     "execution_count": 61,
     "metadata": {},
     "output_type": "execute_result"
    }
   ],
   "source": [
    "conf_matrix_xg = confusion_matrix(y_test, y_pred_ada)\n",
    "print(conf_matrix_xg)\n",
    "accuracy_score(y_test, y_pred_xg)"
   ]
  },
  {
   "cell_type": "code",
   "execution_count": 62,
   "metadata": {},
   "outputs": [
    {
     "name": "stdout",
     "output_type": "stream",
     "text": [
      "Cross-validation scores: [0.90638361 0.90622235 0.90458634 0.90237428 0.90591358]\n",
      "Mean accuracy: 0.91\n",
      "Standard Deviation: 0.00\n"
     ]
    }
   ],
   "source": [
    "scores_xg = cross_val_score(classifier_xg, X, y, cv=5)\n",
    "print(\"Cross-validation scores: {}\" . format(scores_xg))\n",
    "print(\"Mean accuracy: {:.2f}\" . format(scores_xg.mean()))\n",
    "print(\"Standard Deviation: {:.2f}\" . format(scores_xg.std()))"
   ]
  },
  {
   "cell_type": "markdown",
   "metadata": {},
   "source": [
    "## 9. Random Forest"
   ]
  },
  {
   "cell_type": "code",
   "execution_count": 63,
   "metadata": {},
   "outputs": [
    {
     "data": {
      "text/plain": [
       "RandomForestClassifier(bootstrap=True, class_weight=None, criterion='entropy',\n",
       "                       max_depth=None, max_features='auto', max_leaf_nodes=None,\n",
       "                       min_impurity_decrease=0.0, min_impurity_split=None,\n",
       "                       min_samples_leaf=1, min_samples_split=2,\n",
       "                       min_weight_fraction_leaf=0.0, n_estimators=100,\n",
       "                       n_jobs=None, oob_score=False, random_state=100,\n",
       "                       verbose=0, warm_start=False)"
      ]
     },
     "execution_count": 63,
     "metadata": {},
     "output_type": "execute_result"
    }
   ],
   "source": [
    "from sklearn.ensemble import RandomForestClassifier\n",
    "classifier_rf = RandomForestClassifier(n_estimators = 100, criterion = 'entropy', random_state = 100)\n",
    "classifier_rf.fit(X_train, y_train)"
   ]
  },
  {
   "cell_type": "code",
   "execution_count": 64,
   "metadata": {},
   "outputs": [
    {
     "name": "stdout",
     "output_type": "stream",
     "text": [
      "[[0 0]\n",
      " [0 1]\n",
      " [0 0]\n",
      " ...\n",
      " [0 0]\n",
      " [0 0]\n",
      " [0 0]]\n"
     ]
    }
   ],
   "source": [
    "y_pred_rf = classifier_rf.predict(X_test)\n",
    "print(np.concatenate((y_pred_rf.reshape(len(y_pred_rf),1), y_test.reshape(len(y_test),1)),1))"
   ]
  },
  {
   "cell_type": "code",
   "execution_count": 65,
   "metadata": {},
   "outputs": [
    {
     "name": "stdout",
     "output_type": "stream",
     "text": [
      "[[1.   0.  ]\n",
      " [0.86 0.14]\n",
      " [1.   0.  ]\n",
      " ...\n",
      " [0.99 0.01]\n",
      " [1.   0.  ]\n",
      " [1.   0.  ]]\n"
     ]
    }
   ],
   "source": [
    "y_prob_rf = classifier_rf.predict_proba(X_test)\n",
    "print(y_prob_rf)"
   ]
  },
  {
   "cell_type": "code",
   "execution_count": 66,
   "metadata": {},
   "outputs": [
    {
     "name": "stdout",
     "output_type": "stream",
     "text": [
      "[[5805  160]\n",
      " [ 496  321]]\n"
     ]
    },
    {
     "data": {
      "text/plain": [
       "0.903273370687113"
      ]
     },
     "execution_count": 66,
     "metadata": {},
     "output_type": "execute_result"
    }
   ],
   "source": [
    "conf_matrix_rf = confusion_matrix(y_test, y_pred_rf)\n",
    "print(conf_matrix_rf)\n",
    "accuracy_score(y_test, y_pred_rf)"
   ]
  },
  {
   "cell_type": "code",
   "execution_count": 67,
   "metadata": {},
   "outputs": [
    {
     "name": "stdout",
     "output_type": "stream",
     "text": [
      "Cross-validation scores: [0.90653103 0.90504276 0.90709335 0.90517623 0.90296416]\n",
      "Mean accuracy: 0.91\n",
      "Standard Deviation: 0.00\n"
     ]
    }
   ],
   "source": [
    "scores_rf = cross_val_score(classifier_rf, X, y, cv=5)\n",
    "print(\"Cross-validation scores: {}\" . format(scores_rf))\n",
    "print(\"Mean accuracy: {:.2f}\" . format(scores_rf.mean()))\n",
    "print(\"Standard Deviation: {:.2f}\" . format(scores_rf.std()))"
   ]
  },
  {
   "cell_type": "markdown",
   "metadata": {},
   "source": [
    "# Finding out the model with best cross-validation accuracy score"
   ]
  },
  {
   "cell_type": "code",
   "execution_count": 68,
   "metadata": {},
   "outputs": [],
   "source": [
    "score_test_diff_model = {'Logistic':scores_logis.mean(), 'SVM':scores_svm.mean(), 'Kernel_SVM':scores_ksvm.mean(), 'Naive_Bayes':scores_nb.mean(), 'Decision_Tree':scores_DT.mean(), 'Bagging':scores_bag.mean(), 'AdaBoost':scores_ada.mean(), 'XGBoost':scores_xg.mean(), 'Random_Forest':scores_rf.mean()}"
   ]
  },
  {
   "cell_type": "code",
   "execution_count": 69,
   "metadata": {},
   "outputs": [
    {
     "name": "stdout",
     "output_type": "stream",
     "text": [
      "The mean cross-validation score for different model :\n",
      "\n",
      " {'Logistic': 0.89064520958986, 'SVM': 0.8830069662087532, 'Kernel_SVM': 0.8984307933736273, 'Naive_Bayes': 0.8333726357205313, 'Decision_Tree': 0.8998462746247556, 'Bagging': 0.9037686954821383, 'AdaBoost': 0.889377299224891, 'XGBoost': 0.9050960333412348, 'Random_Forest': 0.9053615070099639}\n"
     ]
    }
   ],
   "source": [
    "print(\"The mean cross-validation score for different model :\\n\\n\", score_test_diff_model)"
   ]
  },
  {
   "cell_type": "code",
   "execution_count": 70,
   "metadata": {},
   "outputs": [
    {
     "name": "stdout",
     "output_type": "stream",
     "text": [
      "The model Random_Forest has the highest accuracy score of : 0.9053615070099639\n"
     ]
    }
   ],
   "source": [
    "max_score = max(score_test_diff_model.values())\n",
    "model_max_score = max(score_test_diff_model, key=score_test_diff_model.get) \n",
    "print(\"The model\", model_max_score,\"has the highest accuracy score of :\", max_score) "
   ]
  },
  {
   "cell_type": "markdown",
   "metadata": {},
   "source": [
    "# Fitting the model with best accuracy score on the Test Dataset to predict"
   ]
  },
  {
   "cell_type": "markdown",
   "metadata": {},
   "source": [
    "## Predicted Value"
   ]
  },
  {
   "cell_type": "code",
   "execution_count": 71,
   "metadata": {},
   "outputs": [
    {
     "name": "stdout",
     "output_type": "stream",
     "text": [
      "[1 0 0 ... 0 0 0]\n"
     ]
    }
   ],
   "source": [
    "y_pred_new_bag = classifier_rf.predict(X_test_new)\n",
    "print(y_pred_new_bag)"
   ]
  },
  {
   "cell_type": "markdown",
   "metadata": {},
   "source": [
    "## Probability"
   ]
  },
  {
   "cell_type": "code",
   "execution_count": 72,
   "metadata": {},
   "outputs": [
    {
     "name": "stdout",
     "output_type": "stream",
     "text": [
      "[[0.46 0.54]\n",
      " [0.71 0.29]\n",
      " [0.98 0.02]\n",
      " ...\n",
      " [0.9  0.1 ]\n",
      " [0.82 0.18]\n",
      " [1.   0.  ]]\n"
     ]
    }
   ],
   "source": [
    "y_prob_new_bag = classifier_rf.predict_proba(X_test_new)\n",
    "print(y_prob_new_bag)"
   ]
  },
  {
   "cell_type": "markdown",
   "metadata": {},
   "source": [
    "# --------------------------------------------------------------------------------------------------------------"
   ]
  }
 ],
 "metadata": {
  "kernelspec": {
   "display_name": "Python 3",
   "language": "python",
   "name": "python3"
  },
  "language_info": {
   "codemirror_mode": {
    "name": "ipython",
    "version": 3
   },
   "file_extension": ".py",
   "mimetype": "text/x-python",
   "name": "python",
   "nbconvert_exporter": "python",
   "pygments_lexer": "ipython3",
   "version": "3.7.4"
  }
 },
 "nbformat": 4,
 "nbformat_minor": 2
}
